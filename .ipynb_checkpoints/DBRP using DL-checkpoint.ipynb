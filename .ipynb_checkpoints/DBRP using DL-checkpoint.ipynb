{
 "cells": [
  {
   "cell_type": "code",
   "execution_count": 17,
   "id": "8ef0284a",
   "metadata": {},
   "outputs": [],
   "source": [
    "import numpy as np\n",
    "import pandas as pd\n",
    "import cv2\n",
    "import tensorflow as tf\n",
    "from tensorflow import keras\n",
    "import glob,os\n",
    "from sklearn.preprocessing import  LabelBinarizer\n",
    "from sklearn.model_selection import train_test_split\n",
    "from tensorflow.keras.preprocessing.image import ImageDataGenerator"
   ]
  },
  {
   "cell_type": "code",
   "execution_count": 18,
   "id": "2344c4d5",
   "metadata": {},
   "outputs": [],
   "source": [
    "IMAGE_SIZE = 256\n",
    "BATCH_SIZE= 32\n",
    "CHANNELS= 3\n",
    "EPOCHS=50"
   ]
  },
  {
   "cell_type": "code",
   "execution_count": 19,
   "id": "fdb8d4d4",
   "metadata": {},
   "outputs": [
    {
     "name": "stdout",
     "output_type": "stream",
     "text": [
      "Found 2152 files belonging to 3 classes.\n"
     ]
    }
   ],
   "source": [
    "dataset= tf.keras.preprocessing.image_dataset_from_directory(\n",
    "    \"PlantVillage\",\n",
    "    shuffle= True,\n",
    "    image_size=(IMAGE_SIZE, IMAGE_SIZE),\n",
    "    batch_size= BATCH_SIZE\n",
    ")\n"
   ]
  },
  {
   "cell_type": "code",
   "execution_count": 20,
   "id": "efca539c",
   "metadata": {},
   "outputs": [
    {
     "data": {
      "text/plain": [
       "['Potato___Early_blight', 'Potato___Late_blight', 'Potato___healthy']"
      ]
     },
     "execution_count": 20,
     "metadata": {},
     "output_type": "execute_result"
    }
   ],
   "source": [
    "class_names= dataset.class_names\n",
    "class_names"
   ]
  },
  {
   "cell_type": "code",
   "execution_count": 24,
   "id": "524ad50e",
   "metadata": {},
   "outputs": [],
   "source": [
    "mild_dir=[]\n",
    "moderate_dir=[]\n",
    "no_dr_dir=[]\n",
    "proliferate_dr_dir=[]\n",
    "severe_dir=[]\n",
    "for i in mild_path:\n",
    "    img=cv2.imread(i,1)\n",
    "    img=cv2.resize(img,(128,128))\n",
    "    img=img/255\n",
    "    mild_dir.append(img)\n",
    "for i in moderate_path:\n",
    "    img=cv2.imread(i,1)\n",
    "    img=cv2.resize(img,(128,128))\n",
    "    img=img/255\n",
    "    moderate_dir.append(img)\n",
    "for i in proliferate_dr_path:\n",
    "    img=cv2.imread(i,1)\n",
    "    img=cv2.resize(img,(128,128))\n",
    "    img=img/255\n",
    "    proliferate_dr_dir.append(img)\n",
    "for i in severe_path:\n",
    "    img=cv2.imread(i,1)\n",
    "    img=cv2.resize(img,(128,128))\n",
    "    img=img/255\n",
    "    severe_dir.append(img)"
   ]
  },
  {
   "cell_type": "code",
   "execution_count": 23,
   "id": "fd81d059",
   "metadata": {},
   "outputs": [],
   "source": [
    "mild_path=glob.glob(r'gaussian_filtered_images/Mild/*.png')\n",
    "moderate_path=glob.glob(r'gaussian_filtered_images/Moderate/*.png')\n",
    "proliferate_dr_path=glob.glob(r'gaussian_filtered_images/Proliferate_DR/*.png')\n",
    "severe_path=glob.glob(r'gaussian_filtered_images/Severe/*.png')"
   ]
  },
  {
   "cell_type": "code",
   "execution_count": 25,
   "id": "76abc219",
   "metadata": {},
   "outputs": [],
   "source": [
    "def data_import(mild_dir,moderate_dir,proliferate_dr_dir,severe_dir):\n",
    "    df_data_mild = pd.DataFrame({'image':mild_dir, 'label': 'mild'})\n",
    "    df_data_moderate = pd.DataFrame({'image':moderate_dir, 'label': 'moderate'})\n",
    "    #df_data_no = pd.DataFrame({'image':no_dr_dir, 'label': 'no_DR'})\n",
    "    df_data_proliferate = pd.DataFrame({'image':proliferate_dr_dir, 'label': 'proliferate_DR'})\n",
    "    df_data_severe = pd.DataFrame({'image':severe_dir, 'label': 'severe'})\n",
    "\n",
    "    \n",
    "    final_data = [df_data_mild, df_data_moderate,df_data_proliferate,df_data_severe]\n",
    "    final_data = pd.concat(final_data)\n",
    "    \n",
    "    all_data = final_data['image']\n",
    "    labels = final_data['label']\n",
    "    all_data=np.stack(all_data,axis=0)\n",
    "    labels = LabelBinarizer().fit_transform(labels)\n",
    "    return all_data,labels"
   ]
  },
  {
   "cell_type": "code",
   "execution_count": 26,
   "id": "f94f3ee4",
   "metadata": {},
   "outputs": [],
   "source": [
    "dataset,labels   = data_import(mild_dir,moderate_dir,proliferate_dr_dir,severe_dir)"
   ]
  },
  {
   "cell_type": "code",
   "execution_count": 27,
   "id": "7e189a16",
   "metadata": {},
   "outputs": [],
   "source": [
    "x=dataset\n",
    "y = np.where(labels==1)[1]\n",
    "\n",
    "from tensorflow.keras.utils import to_categorical\n",
    "y_onehot = to_categorical(y)\n",
    "\n",
    "x_train,x_test,y_train,y_test = train_test_split(x,y_onehot,test_size=0.25,stratify=y_onehot)"
   ]
  },
  {
   "cell_type": "code",
   "execution_count": 36,
   "id": "8bdd98f2",
   "metadata": {},
   "outputs": [],
   "source": [
    "from keras.models import Sequential\n",
    "from keras.layers import GaussianNoise\n",
    "from keras.layers import GlobalAveragePooling2D\n",
    "from keras.layers import Dense\n",
    "from keras.layers import BatchNormalization\n",
    "from keras.layers import Dropout\n",
    "\n",
    "base_model = tf.keras.applications.EfficientNetB3(weights='imagenet', input_shape=(128,128,3), include_top=False)\n",
    "\n",
    "for layer in base_model.layers:\n",
    "    layer.trainable=False\n",
    "model = Sequential()\n",
    "model.add(base_model)\n",
    "model.add(GaussianNoise(0.25))\n",
    "model.add(GlobalAveragePooling2D())\n",
    "model.add(Dense(512,activation='relu'))\n",
    "model.add(BatchNormalization())\n",
    "model.add(GaussianNoise(0.25))\n",
    "model.add(Dropout(0.25))\n",
    "model.add(Dense(4, activation='softmax'))\n",
    "model.compile(loss='categorical_crossentropy',\n",
    "              optimizer='adam',\n",
    "              metrics=['accuracy','AUC','Precision','Recall'])"
   ]
  },
  {
   "cell_type": "code",
   "execution_count": 38,
   "id": "219b0450",
   "metadata": {},
   "outputs": [
    {
     "name": "stdout",
     "output_type": "stream",
     "text": [
      "Epoch 1/10\n",
      "44/44 [==============================] - 69s 1s/step - loss: 1.7983 - accuracy: 0.3082 - auc: 0.5560 - precision: 0.3152 - recall: 0.2162\n",
      "Epoch 2/10\n",
      "44/44 [==============================] - 47s 1s/step - loss: 1.5688 - accuracy: 0.3757 - auc: 0.6277 - precision: 0.4128 - recall: 0.2651\n",
      "Epoch 3/10\n",
      "44/44 [==============================] - 46s 1s/step - loss: 1.4244 - accuracy: 0.4425 - auc: 0.6789 - precision: 0.4995 - recall: 0.3427\n",
      "Epoch 4/10\n",
      "44/44 [==============================] - 46s 1s/step - loss: 1.4128 - accuracy: 0.4389 - auc: 0.6698 - precision: 0.4877 - recall: 0.3125\n",
      "Epoch 5/10\n",
      "44/44 [==============================] - 48s 1s/step - loss: 1.3342 - accuracy: 0.4727 - auc: 0.6892 - precision: 0.5180 - recall: 0.3211\n",
      "Epoch 6/10\n",
      "44/44 [==============================] - 47s 1s/step - loss: 1.3143 - accuracy: 0.4784 - auc: 0.6896 - precision: 0.5053 - recall: 0.3082\n",
      "Epoch 7/10\n",
      "44/44 [==============================] - 46s 1s/step - loss: 1.3304 - accuracy: 0.4864 - auc: 0.6779 - precision: 0.4907 - recall: 0.3046\n",
      "Epoch 8/10\n",
      "44/44 [==============================] - 47s 1s/step - loss: 1.2664 - accuracy: 0.4964 - auc: 0.7016 - precision: 0.5413 - recall: 0.3154\n",
      "Epoch 9/10\n",
      "44/44 [==============================] - 47s 1s/step - loss: 1.2489 - accuracy: 0.5014 - auc: 0.7081 - precision: 0.5286 - recall: 0.3190\n",
      "Epoch 10/10\n",
      "44/44 [==============================] - 47s 1s/step - loss: 1.2539 - accuracy: 0.5201 - auc: 0.7038 - precision: 0.5332 - recall: 0.3233\n"
     ]
    },
    {
     "data": {
      "text/plain": [
       "<keras.callbacks.History at 0x158e394ba00>"
      ]
     },
     "execution_count": 38,
     "metadata": {},
     "output_type": "execute_result"
    }
   ],
   "source": [
    "model.fit(x_train, y_train, epochs=10)"
   ]
  },
  {
   "cell_type": "code",
   "execution_count": 39,
   "id": "245ef495",
   "metadata": {},
   "outputs": [
    {
     "name": "stdout",
     "output_type": "stream",
     "text": [
      "44/44 [==============================] - 51s 1s/step - loss: 1.4140 - accuracy: 0.2047 - auc: 0.4870 - precision: 0.0000e+00 - recall: 0.0000e+00\n"
     ]
    },
    {
     "data": {
      "text/plain": [
       "[1.4139556884765625, 0.20474137365818024, 0.4870026409626007, 0.0, 0.0]"
      ]
     },
     "execution_count": 39,
     "metadata": {},
     "output_type": "execute_result"
    }
   ],
   "source": [
    "model.evaluate(x_train,y_train)"
   ]
  },
  {
   "cell_type": "code",
   "execution_count": 40,
   "id": "396e2d3b",
   "metadata": {},
   "outputs": [
    {
     "name": "stdout",
     "output_type": "stream",
     "text": [
      "15/15 [==============================] - 15s 1s/step - loss: 1.4116 - accuracy: 0.2086 - auc: 0.4908 - precision: 0.0000e+00 - recall: 0.0000e+00\n"
     ]
    },
    {
     "data": {
      "text/plain": [
       "[1.4116491079330444, 0.2086021453142166, 0.4907827377319336, 0.0, 0.0]"
      ]
     },
     "execution_count": 40,
     "metadata": {},
     "output_type": "execute_result"
    }
   ],
   "source": [
    "model.evaluate(x_test,y_test)"
   ]
  },
  {
   "cell_type": "code",
   "execution_count": null,
   "id": "3c6351ca",
   "metadata": {},
   "outputs": [],
   "source": []
  },
  {
   "cell_type": "code",
   "execution_count": null,
   "id": "42cb52d5",
   "metadata": {},
   "outputs": [],
   "source": []
  },
  {
   "cell_type": "code",
   "execution_count": null,
   "id": "04346bd4",
   "metadata": {},
   "outputs": [],
   "source": []
  },
  {
   "cell_type": "code",
   "execution_count": null,
   "id": "2ca9ced0",
   "metadata": {},
   "outputs": [],
   "source": []
  },
  {
   "cell_type": "code",
   "execution_count": null,
   "id": "f23f441a",
   "metadata": {},
   "outputs": [],
   "source": []
  }
 ],
 "metadata": {
  "kernelspec": {
   "display_name": "Python 3 (ipykernel)",
   "language": "python",
   "name": "python3"
  },
  "language_info": {
   "codemirror_mode": {
    "name": "ipython",
    "version": 3
   },
   "file_extension": ".py",
   "mimetype": "text/x-python",
   "name": "python",
   "nbconvert_exporter": "python",
   "pygments_lexer": "ipython3",
   "version": "3.10.10"
  }
 },
 "nbformat": 4,
 "nbformat_minor": 5
}
