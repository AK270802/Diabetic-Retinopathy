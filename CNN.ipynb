{
 "cells": [
  {
   "cell_type": "code",
   "execution_count": 1,
   "metadata": {
    "_cell_guid": "79c7e3d0-c299-4dcb-8224-4455121ee9b0",
    "_uuid": "d629ff2d2480ee46fbb7e2d37f6b5fab8052498a",
    "execution": {
     "iopub.execute_input": "2023-03-30T16:36:24.154557Z",
     "iopub.status.busy": "2023-03-30T16:36:24.153942Z",
     "iopub.status.idle": "2023-03-30T16:36:36.208264Z",
     "shell.execute_reply": "2023-03-30T16:36:36.206736Z",
     "shell.execute_reply.started": "2023-03-30T16:36:24.154429Z"
    },
    "id": "nFAm6AkR5dem",
    "papermill": {
     "duration": 5.370337,
     "end_time": "2021-11-13T15:42:44.769852",
     "exception": false,
     "start_time": "2021-11-13T15:42:39.399515",
     "status": "completed"
    },
    "tags": []
   },
   "outputs": [],
   "source": [
    "from tensorflow import lite\n",
    "import tensorflow as tf\n",
    "from tensorflow import keras\n",
    "from tensorflow.keras import layers\n",
    "import numpy as np\n",
    "import pandas as pd\n",
    "import random, os\n",
    "import shutil\n",
    "import matplotlib.pyplot as plt\n",
    "from matplotlib.image import imread\n",
    "from keras.preprocessing.image import ImageDataGenerator\n",
    "from tensorflow.keras.metrics import categorical_accuracy\n",
    "from sklearn.model_selection import train_test_split"
   ]
  },
  {
   "cell_type": "code",
   "execution_count": 3,
   "metadata": {
    "execution": {
     "iopub.execute_input": "2023-03-30T16:36:44.486342Z",
     "iopub.status.busy": "2023-03-30T16:36:44.485441Z",
     "iopub.status.idle": "2023-03-30T16:36:44.540954Z",
     "shell.execute_reply": "2023-03-30T16:36:44.539480Z",
     "shell.execute_reply.started": "2023-03-30T16:36:44.486291Z"
    },
    "id": "02HUx5fs5dew",
    "outputId": "feb7cede-7dac-4619-9267-9bc4fda77e1f",
    "papermill": {
     "duration": 0.059619,
     "end_time": "2021-11-13T15:42:44.837297",
     "exception": false,
     "start_time": "2021-11-13T15:42:44.777678",
     "status": "completed"
    },
    "tags": []
   },
   "outputs": [
    {
     "data": {
      "text/html": [
       "<div>\n",
       "<style scoped>\n",
       "    .dataframe tbody tr th:only-of-type {\n",
       "        vertical-align: middle;\n",
       "    }\n",
       "\n",
       "    .dataframe tbody tr th {\n",
       "        vertical-align: top;\n",
       "    }\n",
       "\n",
       "    .dataframe thead th {\n",
       "        text-align: right;\n",
       "    }\n",
       "</style>\n",
       "<table border=\"1\" class=\"dataframe\">\n",
       "  <thead>\n",
       "    <tr style=\"text-align: right;\">\n",
       "      <th></th>\n",
       "      <th>id_code</th>\n",
       "      <th>diagnosis</th>\n",
       "      <th>binary_type</th>\n",
       "      <th>type</th>\n",
       "    </tr>\n",
       "  </thead>\n",
       "  <tbody>\n",
       "    <tr>\n",
       "      <th>0</th>\n",
       "      <td>000c1434d8d7</td>\n",
       "      <td>2</td>\n",
       "      <td>DR</td>\n",
       "      <td>Moderate</td>\n",
       "    </tr>\n",
       "    <tr>\n",
       "      <th>1</th>\n",
       "      <td>001639a390f0</td>\n",
       "      <td>4</td>\n",
       "      <td>DR</td>\n",
       "      <td>Proliferate_DR</td>\n",
       "    </tr>\n",
       "    <tr>\n",
       "      <th>2</th>\n",
       "      <td>0024cdab0c1e</td>\n",
       "      <td>1</td>\n",
       "      <td>DR</td>\n",
       "      <td>Mild</td>\n",
       "    </tr>\n",
       "    <tr>\n",
       "      <th>3</th>\n",
       "      <td>002c21358ce6</td>\n",
       "      <td>0</td>\n",
       "      <td>No_DR</td>\n",
       "      <td>No_DR</td>\n",
       "    </tr>\n",
       "    <tr>\n",
       "      <th>4</th>\n",
       "      <td>005b95c28852</td>\n",
       "      <td>0</td>\n",
       "      <td>No_DR</td>\n",
       "      <td>No_DR</td>\n",
       "    </tr>\n",
       "  </tbody>\n",
       "</table>\n",
       "</div>"
      ],
      "text/plain": [
       "        id_code  diagnosis binary_type            type\n",
       "0  000c1434d8d7          2          DR        Moderate\n",
       "1  001639a390f0          4          DR  Proliferate_DR\n",
       "2  0024cdab0c1e          1          DR            Mild\n",
       "3  002c21358ce6          0       No_DR           No_DR\n",
       "4  005b95c28852          0       No_DR           No_DR"
      ]
     },
     "execution_count": 3,
     "metadata": {},
     "output_type": "execute_result"
    }
   ],
   "source": [
    "# Add an additional column, mapping to the type\n",
    "df = pd.read_csv(r'E:/Akshay/Projects/ML/Diabetic-Retinopathy/gaussian_filtered_images/train.csv')\n",
    "\n",
    "diagnosis_dict_binary = {\n",
    "    0: 'No_DR',\n",
    "    1: 'DR',\n",
    "    2: 'DR',\n",
    "    3: 'DR',\n",
    "    4: 'DR'\n",
    "}\n",
    "\n",
    "diagnosis_dict = {\n",
    "    0: 'No_DR',\n",
    "    1: 'Mild',\n",
    "    2: 'Moderate',\n",
    "    3: 'Severe',\n",
    "    4: 'Proliferate_DR',\n",
    "}\n",
    "\n",
    "\n",
    "df['binary_type'] =  df['diagnosis'].map(diagnosis_dict_binary.get)\n",
    "df['type'] = df['diagnosis'].map(diagnosis_dict.get)\n",
    "df.head()"
   ]
  },
  {
   "cell_type": "code",
   "execution_count": 4,
   "metadata": {
    "execution": {
     "iopub.execute_input": "2023-03-30T16:36:53.143684Z",
     "iopub.status.busy": "2023-03-30T16:36:53.143096Z",
     "iopub.status.idle": "2023-03-30T16:36:53.436458Z",
     "shell.execute_reply": "2023-03-30T16:36:53.434766Z",
     "shell.execute_reply.started": "2023-03-30T16:36:53.143631Z"
    },
    "id": "hariTLPu5de2",
    "outputId": "e823b0da-b643-4d00-8a5f-9d5c2b6fcc2a",
    "papermill": {
     "duration": 0.178174,
     "end_time": "2021-11-13T15:42:45.023194",
     "exception": false,
     "start_time": "2021-11-13T15:42:44.84502",
     "status": "completed"
    },
    "tags": []
   },
   "outputs": [
    {
     "data": {
      "text/plain": [
       "<Axes: >"
      ]
     },
     "execution_count": 4,
     "metadata": {},
     "output_type": "execute_result"
    },
    {
     "data": {
      "image/png": "[encoded data removed]",
      "text/plain": [
       "<Figure size 640x480 with 1 Axes>"
      ]
     },
     "metadata": {},
     "output_type": "display_data"
    }
   ],
   "source": [
    "df['type'].value_counts().plot(kind='barh')"
   ]
  },
  {
   "cell_type": "code",
   "execution_count": 5,
   "metadata": {
    "execution": {
     "iopub.execute_input": "2023-03-30T16:36:56.630032Z",
     "iopub.status.busy": "2023-03-30T16:36:56.629430Z",
     "iopub.status.idle": "2023-03-30T16:36:56.840174Z",
     "shell.execute_reply": "2023-03-30T16:36:56.838871Z",
     "shell.execute_reply.started": "2023-03-30T16:36:56.629976Z"
    },
    "id": "mNpDtYla5de4",
    "outputId": "c7c99fb8-d41a-47e9-dab0-416cea5033ca",
    "papermill": {
     "duration": 0.13094,
     "end_time": "2021-11-13T15:42:45.162496",
     "exception": false,
     "start_time": "2021-11-13T15:42:45.031556",
     "status": "completed"
    },
    "tags": []
   },
   "outputs": [
    {
     "data": {
      "text/plain": [
       "<Axes: >"
      ]
     },
     "execution_count": 5,
     "metadata": {},
     "output_type": "execute_result"
    },
    {
     "data": {
      "image/png": "[encoded data removed]",
      "text/plain": [
       "<Figure size 640x480 with 1 Axes>"
      ]
     },
     "metadata": {},
     "output_type": "display_data"
    }
   ],
   "source": [
    "df['binary_type'].value_counts().plot(kind='barh')"
   ]
  },
  {
   "cell_type": "code",
   "execution_count": 6,
   "metadata": {
    "execution": {
     "iopub.execute_input": "2023-03-30T16:36:59.015107Z",
     "iopub.status.busy": "2023-03-30T16:36:59.014453Z",
     "iopub.status.idle": "2023-03-30T16:36:59.045839Z",
     "shell.execute_reply": "2023-03-30T16:36:59.044434Z",
     "shell.execute_reply.started": "2023-03-30T16:36:59.015050Z"
    },
    "id": "4NoJW5jl5de4",
    "outputId": "262e22c1-89c5-4a37-8cc3-396a31e270d0",
    "papermill": {
     "duration": 0.040633,
     "end_time": "2021-11-13T15:42:45.212151",
     "exception": false,
     "start_time": "2021-11-13T15:42:45.171518",
     "status": "completed"
    },
    "tags": []
   },
   "outputs": [
    {
     "name": "stdout",
     "output_type": "stream",
     "text": [
      "No_DR             1263\n",
      "Moderate           699\n",
      "Mild               258\n",
      "Proliferate_DR     207\n",
      "Severe             135\n",
      "Name: type, dtype: int64 \n",
      "\n",
      "No_DR             271\n",
      "Moderate          150\n",
      "Mild               56\n",
      "Proliferate_DR     44\n",
      "Severe             29\n",
      "Name: type, dtype: int64 \n",
      "\n",
      "No_DR             271\n",
      "Moderate          150\n",
      "Mild               56\n",
      "Proliferate_DR     44\n",
      "Severe             29\n",
      "Name: type, dtype: int64 \n",
      "\n"
     ]
    }
   ],
   "source": [
    "# Split into stratified train, val, and test sets\n",
    "train_intermediate, val = train_test_split(df, test_size = 0.15, stratify = df['type'])\n",
    "train, test = train_test_split(train_intermediate, test_size = 0.15 / (1 - 0.15), stratify = train_intermediate['type'])\n",
    "\n",
    "print(train['type'].value_counts(), '\\n')\n",
    "print(test['type'].value_counts(), '\\n')\n",
    "print(val['type'].value_counts(), '\\n')\n"
   ]
  },
  {
   "cell_type": "code",
   "execution_count": 7,
   "metadata": {
    "execution": {
     "iopub.execute_input": "2023-03-30T16:37:02.287415Z",
     "iopub.status.busy": "2023-03-30T16:37:02.286864Z",
     "iopub.status.idle": "2023-03-30T16:37:02.298254Z",
     "shell.execute_reply": "2023-03-30T16:37:02.296898Z",
     "shell.execute_reply.started": "2023-03-30T16:37:02.287364Z"
    },
    "id": "2UEAgD0W5de6",
    "papermill": {
     "duration": 0.020958,
     "end_time": "2021-11-13T15:42:45.24341",
     "exception": false,
     "start_time": "2021-11-13T15:42:45.222452",
     "status": "completed"
    },
    "tags": []
   },
   "outputs": [],
   "source": [
    "# Create working directories for train/val/test\n",
    "base_dir = ''\n",
    "\n",
    "train_dir = os.path.join(base_dir, 'train')\n",
    "val_dir = os.path.join(base_dir, 'val')\n",
    "test_dir = os.path.join(base_dir, 'test')\n",
    "\n",
    "if os.path.exists(base_dir):\n",
    "    shutil.rmtree(base_dir)\n",
    "\n",
    "if os.path.exists(train_dir):\n",
    "    shutil.rmtree(train_dir)\n",
    "os.makedirs(train_dir)\n",
    "\n",
    "if os.path.exists(val_dir):\n",
    "    shutil.rmtree(val_dir)\n",
    "os.makedirs(val_dir)\n",
    "\n",
    "if os.path.exists(test_dir):\n",
    "    shutil.rmtree(test_dir)\n",
    "os.makedirs(test_dir)\n"
   ]
  },
  {
   "cell_type": "code",
   "execution_count": 8,
   "metadata": {
    "execution": {
     "iopub.execute_input": "2023-03-30T16:37:08.054321Z",
     "iopub.status.busy": "2023-03-30T16:37:08.053856Z",
     "iopub.status.idle": "2023-03-30T16:37:40.423846Z",
     "shell.execute_reply": "2023-03-30T16:37:40.422606Z",
     "shell.execute_reply.started": "2023-03-30T16:37:08.054286Z"
    },
    "id": "sweLv9175de9",
    "papermill": {
     "duration": 33.87362,
     "end_time": "2021-11-13T15:43:19.12658",
     "exception": false,
     "start_time": "2021-11-13T15:42:45.25296",
     "status": "completed"
    },
    "tags": []
   },
   "outputs": [],
   "source": [
    "# Copy images to respective working directory\n",
    "src_dir = r'E:/Akshay/Projects/ML/Diabetic-Retinopathy/gaussian_filtered_images/gaussian_filtered_images'\n",
    "for index, row in train.iterrows():\n",
    "    diagnosis = row['type']\n",
    "    binary_diagnosis = row['binary_type']\n",
    "    id_code = row['id_code'] + \".png\"\n",
    "    srcfile = os.path.join(src_dir, diagnosis, id_code)\n",
    "    dstfile = os.path.join(train_dir, binary_diagnosis)\n",
    "    os.makedirs(dstfile, exist_ok = True)\n",
    "    shutil.copy(srcfile, dstfile)\n",
    "\n",
    "for index, row in val.iterrows():\n",
    "    diagnosis = row['type']\n",
    "    binary_diagnosis = row['binary_type']\n",
    "    id_code = row['id_code'] + \".png\"\n",
    "    srcfile = os.path.join(src_dir, diagnosis, id_code)\n",
    "    dstfile = os.path.join(val_dir, binary_diagnosis)\n",
    "    os.makedirs(dstfile, exist_ok = True)\n",
    "    shutil.copy(srcfile, dstfile)\n",
    " \n",
    "for index, row in test.iterrows():\n",
    "    diagnosis = row['type']\n",
    "    binary_diagnosis = row['binary_type']\n",
    "    id_code = row['id_code'] + \".png\"\n",
    "    srcfile = os.path.join(src_dir, diagnosis, id_code)\n",
    "    dstfile = os.path.join(test_dir, binary_diagnosis)\n",
    "    os.makedirs(dstfile, exist_ok = True)\n",
    "    shutil.copy(srcfile, dstfile)\n"
   ]
  },
  {
   "cell_type": "code",
   "execution_count": 9,
   "metadata": {
    "execution": {
     "iopub.execute_input": "2023-03-30T16:38:17.976855Z",
     "iopub.status.busy": "2023-03-30T16:38:17.976335Z",
     "iopub.status.idle": "2023-03-30T16:38:18.417205Z",
     "shell.execute_reply": "2023-03-30T16:38:18.416088Z",
     "shell.execute_reply.started": "2023-03-30T16:38:17.976813Z"
    },
    "id": "kcYe-AOO5dfA",
    "outputId": "c816c2a6-1d4b-4488-a5a6-4800819b96d7",
    "papermill": {
     "duration": 0.332939,
     "end_time": "2021-11-13T15:43:19.470672",
     "exception": false,
     "start_time": "2021-11-13T15:43:19.137733",
     "status": "completed"
    },
    "tags": []
   },
   "outputs": [
    {
     "name": "stdout",
     "output_type": "stream",
     "text": [
      "Found 2562 images belonging to 2 classes.\n",
      "Found 550 images belonging to 2 classes.\n",
      "Found 550 images belonging to 2 classes.\n"
     ]
    }
   ],
   "source": [
    "# Setting up ImageDataGenerator for train/val/test \n",
    "\n",
    "train_path = 'train'\n",
    "val_path = 'val'\n",
    "test_path = 'test'\n",
    "\n",
    "train_batches = ImageDataGenerator(rescale = 1./255).flow_from_directory(train_path, target_size=(224,224), shuffle = True)\n",
    "val_batches = ImageDataGenerator(rescale = 1./255).flow_from_directory(val_path, target_size=(224,224), shuffle = True)\n",
    "test_batches = ImageDataGenerator(rescale = 1./255).flow_from_directory(test_path, target_size=(224,224), shuffle = False)\n"
   ]
  },
  {
   "cell_type": "code",
   "execution_count": 10,
   "metadata": {
    "execution": {
     "iopub.execute_input": "2023-03-30T16:38:24.416014Z",
     "iopub.status.busy": "2023-03-30T16:38:24.415504Z",
     "iopub.status.idle": "2023-03-30T16:53:27.692834Z",
     "shell.execute_reply": "2023-03-30T16:53:27.691275Z",
     "shell.execute_reply.started": "2023-03-30T16:38:24.415973Z"
    },
    "id": "NHgHS22d5dfE",
    "outputId": "6ae2499c-e780-47d0-9165-89c3868c2822",
    "papermill": {
     "duration": 553.230079,
     "end_time": "2021-11-13T15:52:32.710989",
     "exception": false,
     "start_time": "2021-11-13T15:43:19.48091",
     "status": "completed"
    },
    "tags": []
   },
   "outputs": [
    {
     "name": "stderr",
     "output_type": "stream",
     "text": [
      "WARNING:absl:`lr` is deprecated in Keras optimizer, please use `learning_rate` or use the legacy optimizer, e.g.,tf.keras.optimizers.legacy.Adam.\n"
     ]
    },
    {
     "name": "stdout",
     "output_type": "stream",
     "text": [
      "Epoch 1/30\n",
      "81/81 [==============================] - 29s 348ms/step - loss: 0.3489 - acc: 0.8856 - val_loss: 0.7601 - val_acc: 0.5073\n",
      "Epoch 2/30\n",
      "81/81 [==============================] - 21s 260ms/step - loss: 0.1930 - acc: 0.9266 - val_loss: 0.8562 - val_acc: 0.6473\n",
      "Epoch 3/30\n",
      "81/81 [==============================] - 21s 259ms/step - loss: 0.1590 - acc: 0.9418 - val_loss: 0.6522 - val_acc: 0.6364\n",
      "Epoch 4/30\n",
      "81/81 [==============================] - 20s 252ms/step - loss: 0.1488 - acc: 0.9434 - val_loss: 0.4212 - val_acc: 0.8327\n",
      "Epoch 5/30\n",
      "81/81 [==============================] - 20s 249ms/step - loss: 0.0844 - acc: 0.9649 - val_loss: 0.2018 - val_acc: 0.9327\n",
      "Epoch 6/30\n",
      "81/81 [==============================] - 20s 244ms/step - loss: 0.0529 - acc: 0.9797 - val_loss: 0.1980 - val_acc: 0.9382\n",
      "Epoch 7/30\n",
      "81/81 [==============================] - 20s 247ms/step - loss: 0.0418 - acc: 0.9809 - val_loss: 0.4125 - val_acc: 0.8055\n",
      "Epoch 8/30\n",
      "81/81 [==============================] - 20s 247ms/step - loss: 0.0268 - acc: 0.9914 - val_loss: 0.2880 - val_acc: 0.9273\n",
      "Epoch 9/30\n",
      "81/81 [==============================] - 20s 246ms/step - loss: 0.0205 - acc: 0.9918 - val_loss: 0.5089 - val_acc: 0.9036\n",
      "Epoch 10/30\n",
      "81/81 [==============================] - 20s 247ms/step - loss: 0.0160 - acc: 0.9926 - val_loss: 0.2726 - val_acc: 0.9455\n",
      "Epoch 11/30\n",
      "81/81 [==============================] - 20s 245ms/step - loss: 0.0186 - acc: 0.9938 - val_loss: 0.3345 - val_acc: 0.9291\n",
      "Epoch 12/30\n",
      "81/81 [==============================] - 20s 247ms/step - loss: 0.0143 - acc: 0.9949 - val_loss: 0.3375 - val_acc: 0.9291\n",
      "Epoch 13/30\n",
      "81/81 [==============================] - 20s 246ms/step - loss: 0.0084 - acc: 0.9965 - val_loss: 0.6620 - val_acc: 0.8945\n",
      "Epoch 14/30\n",
      "81/81 [==============================] - 20s 248ms/step - loss: 0.0106 - acc: 0.9961 - val_loss: 1.4504 - val_acc: 0.7927\n",
      "Epoch 15/30\n",
      "81/81 [==============================] - 21s 257ms/step - loss: 0.0105 - acc: 0.9961 - val_loss: 0.2928 - val_acc: 0.9345\n",
      "Epoch 16/30\n",
      "81/81 [==============================] - 21s 261ms/step - loss: 0.0058 - acc: 0.9969 - val_loss: 0.4068 - val_acc: 0.9309\n",
      "Epoch 17/30\n",
      "81/81 [==============================] - 21s 262ms/step - loss: 0.0181 - acc: 0.9957 - val_loss: 0.4739 - val_acc: 0.8945\n",
      "Epoch 18/30\n",
      "81/81 [==============================] - 21s 262ms/step - loss: 0.0401 - acc: 0.9879 - val_loss: 0.2908 - val_acc: 0.9273\n",
      "Epoch 19/30\n",
      "81/81 [==============================] - 21s 255ms/step - loss: 0.0221 - acc: 0.9914 - val_loss: 0.3946 - val_acc: 0.9291\n",
      "Epoch 20/30\n",
      "81/81 [==============================] - 20s 251ms/step - loss: 0.0167 - acc: 0.9945 - val_loss: 18.5117 - val_acc: 0.6382\n",
      "Epoch 21/30\n",
      "81/81 [==============================] - 21s 259ms/step - loss: 0.0153 - acc: 0.9941 - val_loss: 9.8405 - val_acc: 0.6564\n",
      "Epoch 22/30\n",
      "81/81 [==============================] - 21s 258ms/step - loss: 0.0147 - acc: 0.9930 - val_loss: 11.5637 - val_acc: 0.6400\n",
      "Epoch 23/30\n",
      "81/81 [==============================] - 21s 256ms/step - loss: 0.0096 - acc: 0.9957 - val_loss: 1.2009 - val_acc: 0.7655\n",
      "Epoch 24/30\n",
      "81/81 [==============================] - 20s 249ms/step - loss: 0.0102 - acc: 0.9961 - val_loss: 0.6533 - val_acc: 0.8855\n",
      "Epoch 25/30\n",
      "81/81 [==============================] - 20s 252ms/step - loss: 0.0137 - acc: 0.9953 - val_loss: 1.3966 - val_acc: 0.8073\n",
      "Epoch 26/30\n",
      "81/81 [==============================] - 20s 251ms/step - loss: 0.0091 - acc: 0.9957 - val_loss: 1.4658 - val_acc: 0.8927\n",
      "Epoch 27/30\n",
      "81/81 [==============================] - 20s 252ms/step - loss: 0.0062 - acc: 0.9965 - val_loss: 1.6934 - val_acc: 0.8909\n",
      "Epoch 28/30\n",
      "81/81 [==============================] - 20s 252ms/step - loss: 0.0057 - acc: 0.9973 - val_loss: 0.4549 - val_acc: 0.9436\n",
      "Epoch 29/30\n",
      "81/81 [==============================] - 20s 251ms/step - loss: 0.0031 - acc: 0.9984 - val_loss: 0.6591 - val_acc: 0.9255\n",
      "Epoch 30/30\n",
      "81/81 [==============================] - 20s 251ms/step - loss: 0.0089 - acc: 0.9973 - val_loss: 0.8865 - val_acc: 0.9218\n"
     ]
    }
   ],
   "source": [
    "# Building the model\n",
    "\n",
    "model = tf.keras.Sequential([\n",
    "    layers.Conv2D(8, (3,3), padding=\"valid\", input_shape=(224,224,3), activation = 'relu'),\n",
    "    layers.MaxPooling2D(pool_size=(2,2)),\n",
    "    layers.BatchNormalization(),\n",
    "    \n",
    "    layers.Conv2D(16, (3,3), padding=\"valid\", activation = 'relu'),\n",
    "    layers.MaxPooling2D(pool_size=(2,2)),\n",
    "    layers.BatchNormalization(),\n",
    "    \n",
    "    layers.Conv2D(32, (4,4), padding=\"valid\", activation = 'relu'),\n",
    "    layers.MaxPooling2D(pool_size=(2,2)),\n",
    "    layers.BatchNormalization(),\n",
    " \n",
    "    layers.Flatten(),\n",
    "    layers.Dense(32, activation = 'relu'),\n",
    "    layers.Dropout(0.15),\n",
    "    layers.Dense(2, activation = 'softmax')\n",
    "])\n",
    "\n",
    "model.compile(optimizer=tf.keras.optimizers.Adam(lr = 1e-5),\n",
    "              loss=tf.keras.losses.BinaryCrossentropy(),\n",
    "              metrics=['acc'])\n",
    "\n",
    "history = model.fit(train_batches,\n",
    "                    epochs=30,\n",
    "                    validation_data=val_batches)"
   ]
  },
  {
   "cell_type": "code",
   "execution_count": 11,
   "metadata": {
    "execution": {
     "iopub.execute_input": "2023-03-30T17:18:06.427594Z",
     "iopub.status.busy": "2023-03-30T17:18:06.427053Z",
     "iopub.status.idle": "2023-03-30T17:18:09.424023Z",
     "shell.execute_reply": "2023-03-30T17:18:09.422805Z",
     "shell.execute_reply.started": "2023-03-30T17:18:06.427556Z"
    },
    "id": "IBOVVVRc5dfu",
    "outputId": "625ca660-456b-4517-f62d-135583381a45"
   },
   "outputs": [
    {
     "name": "stderr",
     "output_type": "stream",
     "text": [
      "WARNING:absl:Found untraced functions such as _jit_compiled_convolution_op, _jit_compiled_convolution_op, _jit_compiled_convolution_op, _update_step_xla while saving (showing 4 of 4). These functions will not be directly callable after loading.\n"
     ]
    },
    {
     "name": "stdout",
     "output_type": "stream",
     "text": [
      "INFO:tensorflow:Assets written to: 64x3-CNN.model\\assets\n"
     ]
    },
    {
     "name": "stderr",
     "output_type": "stream",
     "text": [
      "INFO:tensorflow:Assets written to: 64x3-CNN.model\\assets\n"
     ]
    }
   ],
   "source": [
    "model.save('64x3-CNN.model')"
   ]
  },
  {
   "cell_type": "code",
   "execution_count": 17,
   "metadata": {},
   "outputs": [
    {
     "name": "stdout",
     "output_type": "stream",
     "text": [
      "Model: \"sequential\"\n",
      "_________________________________________________________________\n",
      " Layer (type)                Output Shape              Param #   \n",
      "=================================================================\n",
      " conv2d (Conv2D)             (None, 222, 222, 8)       224       \n",
      "                                                                 \n",
      " max_pooling2d (MaxPooling2D  (None, 111, 111, 8)      0         \n",
      " )                                                               \n",
      "                                                                 \n",
      " batch_normalization (BatchN  (None, 111, 111, 8)      32        \n",
      " ormalization)                                                   \n",
      "                                                                 \n",
      " conv2d_1 (Conv2D)           (None, 109, 109, 16)      1168      \n",
      "                                                                 \n",
      " max_pooling2d_1 (MaxPooling  (None, 54, 54, 16)       0         \n",
      " 2D)                                                             \n",
      "                                                                 \n",
      " batch_normalization_1 (Batc  (None, 54, 54, 16)       64        \n",
      " hNormalization)                                                 \n",
      "                                                                 \n",
      " conv2d_2 (Conv2D)           (None, 51, 51, 32)        8224      \n",
      "                                                                 \n",
      " max_pooling2d_2 (MaxPooling  (None, 25, 25, 32)       0         \n",
      " 2D)                                                             \n",
      "                                                                 \n",
      " batch_normalization_2 (Batc  (None, 25, 25, 32)       128       \n",
      " hNormalization)                                                 \n",
      "                                                                 \n",
      " flatten (Flatten)           (None, 20000)             0         \n",
      "                                                                 \n",
      " dense (Dense)               (None, 32)                640032    \n",
      "                                                                 \n",
      " dropout (Dropout)           (None, 32)                0         \n",
      "                                                                 \n",
      " dense_1 (Dense)             (None, 2)                 66        \n",
      "                                                                 \n",
      "=================================================================\n",
      "Total params: 649,938\n",
      "Trainable params: 649,826\n",
      "Non-trainable params: 112\n",
      "_________________________________________________________________\n"
     ]
    }
   ],
   "source": [
    "model.summary()"
   ]
  },
  {
   "cell_type": "code",
   "execution_count": 12,
   "metadata": {
    "execution": {
     "iopub.execute_input": "2023-03-30T17:18:44.329762Z",
     "iopub.status.busy": "2023-03-30T17:18:44.329236Z",
     "iopub.status.idle": "2023-03-30T17:18:47.068054Z",
     "shell.execute_reply": "2023-03-30T17:18:47.066706Z",
     "shell.execute_reply.started": "2023-03-30T17:18:44.329721Z"
    },
    "id": "IgJED3835dfv",
    "outputId": "62f56046-72c3-48ce-ad85-4dcce241a976",
    "papermill": {
     "duration": 3.725333,
     "end_time": "2021-11-13T15:52:36.684994",
     "exception": false,
     "start_time": "2021-11-13T15:52:32.959661",
     "status": "completed"
    },
    "tags": []
   },
   "outputs": [
    {
     "name": "stderr",
     "output_type": "stream",
     "text": [
      "C:\\Users\\panch\\AppData\\Local\\Temp\\ipykernel_1232\\4010420734.py:1: UserWarning: `Model.evaluate_generator` is deprecated and will be removed in a future version. Please use `Model.evaluate`, which supports generators.\n",
      "  loss, acc = model.evaluate_generator(test_batches, verbose=1)\n"
     ]
    },
    {
     "name": "stdout",
     "output_type": "stream",
     "text": [
      "18/18 [==============================] - 3s 154ms/step - loss: 0.9506 - acc: 0.9182\n",
      "Accuracy:  0.918181836605072\n"
     ]
    }
   ],
   "source": [
    "loss, acc = model.evaluate_generator(test_batches, verbose=1)\n",
    "#print(\"Loss: \", loss)\n",
    "print(\"Accuracy: \", acc)\n"
   ]
  },
  {
   "cell_type": "markdown",
   "metadata": {},
   "source": [
    "# ****Diabet Retinopathy Detection Section****"
   ]
  },
  {
   "cell_type": "code",
   "execution_count": 14,
   "metadata": {
    "execution": {
     "iopub.execute_input": "2023-03-30T17:21:23.859979Z",
     "iopub.status.busy": "2023-03-30T17:21:23.859515Z",
     "iopub.status.idle": "2023-03-30T17:21:23.869175Z",
     "shell.execute_reply": "2023-03-30T17:21:23.868127Z",
     "shell.execute_reply.started": "2023-03-30T17:21:23.859940Z"
    }
   },
   "outputs": [],
   "source": [
    "import tensorflow as tf\n",
    "import cv2\n",
    "import numpy as np\n",
    "import matplotlib.pyplot as plt\n",
    "\n",
    "\n",
    "def predict_class(path):\n",
    "    img = cv2.imread(path)\n",
    "\n",
    "    RGBImg = cv2.cvtColor(img,cv2.COLOR_BGR2RGB)\n",
    "    RGBImg= cv2.resize(RGBImg,(224,224))\n",
    "    plt.imshow(RGBImg)\n",
    "    image = np.array(RGBImg) / 255.0\n",
    "    new_model = tf.keras.models.load_model(\"64x3-CNN.model\")\n",
    "    predict=new_model.predict(np.array([image]))\n",
    "    per=np.argmax(predict,axis=1)\n",
    "    if per==1:\n",
    "        print('No DR')\n",
    "    else:\n",
    "        print('DR')"
   ]
  },
  {
   "cell_type": "code",
   "execution_count": 1,
   "metadata": {
    "execution": {
     "iopub.execute_input": "2023-03-30T17:22:07.069828Z",
     "iopub.status.busy": "2023-03-30T17:22:07.069325Z",
     "iopub.status.idle": "2023-03-30T17:22:08.503156Z",
     "shell.execute_reply": "2023-03-30T17:22:08.501703Z",
     "shell.execute_reply.started": "2023-03-30T17:22:07.069776Z"
    }
   },
   "outputs": [
    {
     "ename": "NameError",
     "evalue": "name 'predict_class' is not defined",
     "output_type": "error",
     "traceback": [
      "\u001b[1;31m---------------------------------------------------------------------------\u001b[0m",
      "\u001b[1;31mNameError\u001b[0m                                 Traceback (most recent call last)",
      "Cell \u001b[1;32mIn[1], line 1\u001b[0m\n\u001b[1;32m----> 1\u001b[0m \u001b[43mpredict_class\u001b[49m(\u001b[38;5;124m'\u001b[39m\u001b[38;5;124mE:/Akshay/Projects/ML/Diabetic-Retinopathy/gaussian_filtered_images/gaussian_filtered_images/No_DR/0cae727cf119.png\u001b[39m\u001b[38;5;124m'\u001b[39m)\n",
      "\u001b[1;31mNameError\u001b[0m: name 'predict_class' is not defined"
     ]
    }
   ],
   "source": [
    "predict_class('E:/Akshay/Projects/ML/Diabetic-Retinopathy/gaussian_filtered_images/gaussian_filtered_images/No_DR/0cae727cf119.png')"
   ]
  },
  {
   "cell_type": "code",
   "execution_count": null,
   "metadata": {},
   "outputs": [],
   "source": []
  }
 ],
 "metadata": {
  "kernelspec": {
   "display_name": "Python 3 (ipykernel)",
   "language": "python",
   "name": "python3"
  },
  "language_info": {
   "codemirror_mode": {
    "name": "ipython",
    "version": 3
   },
   "file_extension": ".py",
   "mimetype": "text/x-python",
   "name": "python",
   "nbconvert_exporter": "python",
   "pygments_lexer": "ipython3",
   "version": "3.11.2"
  }
 },
 "nbformat": 4,
 "nbformat_minor": 4
}
